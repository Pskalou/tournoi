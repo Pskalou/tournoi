{
 "cells": [
  {
   "cell_type": "markdown",
   "metadata": {},
   "source": [
    "Je propose une version plus lisible et commentée du `premier algorithme`:\n",
    "\n",
    "```quote\n",
    "Tournoi\n",
    "entrée : n = nombre de participant\n",
    "sortie : tableau de dimension n × n\n",
    "         indiquant pour chaque couple\n",
    "         de joueur le tour durant lequel\n",
    "         ils s'affrontent\n",
    "```"
   ]
  },
  {
   "cell_type": "code",
   "execution_count": 2,
   "metadata": {},
   "outputs": [],
   "source": [
    "def tournoi_paire(n):\n",
    "    # tableau n×n rempli de 'X'\n",
    "    tab = [['X'] * n for _ in range(n)]\n",
    "    \n",
    "    # remplissage du tableau entier\n",
    "    # chaque ligne décallée de 1 par rapport à la précédente\n",
    "    for i in range(n):\n",
    "        for j in range (n):\n",
    "            tab[i][j] = (j+i-1)%(n-1)\n",
    "            \n",
    "    # remplissage de la dernière colonne et dernière ligne\n",
    "    for i in range(n):\n",
    "        val= (2*i-1)%(n-1)\n",
    "        tab[i][n-1]= val        \n",
    "        tab[n-1][i]= val\n",
    "        \n",
    "    # remplissage de la diagonale avec -1\n",
    "    for i in range(n):\n",
    "        tab[i][i]= -1\n",
    "        \n",
    "    return tab\n",
    "\n",
    "\n",
    "def tournoi_impaire(n):\n",
    "    tab= []\n",
    "    # un tableau impaire sera un extrait du tableau\n",
    "    # paire de dimension n+1\n",
    "    tab_paire= tournoi_paire(n+1)\n",
    "    for i in range (n):\n",
    "        tab.append(tab_paire[i][0:n])\n",
    "    return tab\n",
    "\n",
    "\n",
    "def tournoi(n):\n",
    "    # deux cas en fonction du nombre paire\n",
    "    # ou impaire de participants\n",
    "    if n%2 ==0:\n",
    "        return tournoi_paire (n)\n",
    "    else:\n",
    "        return tournoi_impaire (n)"
   ]
  },
  {
   "cell_type": "code",
   "execution_count": 97,
   "metadata": {},
   "outputs": [
    {
     "data": {
      "text/plain": [
       "[[-1, 0, 1, 2, 3],\n",
       " [0, -1, 2, 3, 4],\n",
       " [1, 2, -1, 4, 0],\n",
       " [2, 3, 4, -1, 1],\n",
       " [3, 4, 0, 1, -1]]"
      ]
     },
     "execution_count": 97,
     "metadata": {},
     "output_type": "execute_result"
    }
   ],
   "source": [
    "tournoi(5) "
   ]
  },
  {
   "cell_type": "code",
   "execution_count": 3,
   "metadata": {},
   "outputs": [
    {
     "data": {
      "text/plain": [
       "[[-1, 0, 1, 2, 3, 4, 5, 6, 7, 8, 9],\n",
       " [0, -1, 2, 3, 4, 5, 6, 7, 8, 9, 10],\n",
       " [1, 2, -1, 4, 5, 6, 7, 8, 9, 10, 0],\n",
       " [2, 3, 4, -1, 6, 7, 8, 9, 10, 0, 1],\n",
       " [3, 4, 5, 6, -1, 8, 9, 10, 0, 1, 2],\n",
       " [4, 5, 6, 7, 8, -1, 10, 0, 1, 2, 3],\n",
       " [5, 6, 7, 8, 9, 10, -1, 1, 2, 3, 4],\n",
       " [6, 7, 8, 9, 10, 0, 1, -1, 3, 4, 5],\n",
       " [7, 8, 9, 10, 0, 1, 2, 3, -1, 5, 6],\n",
       " [8, 9, 10, 0, 1, 2, 3, 4, 5, -1, 7],\n",
       " [9, 10, 0, 1, 2, 3, 4, 5, 6, 7, -1]]"
      ]
     },
     "execution_count": 3,
     "metadata": {},
     "output_type": "execute_result"
    }
   ],
   "source": [
    "tournoi(11)"
   ]
  }
 ],
 "metadata": {
  "kernelspec": {
   "display_name": "Python 3",
   "language": "python",
   "name": "python3"
  },
  "language_info": {
   "codemirror_mode": {
    "name": "ipython",
    "version": 3
   },
   "file_extension": ".py",
   "mimetype": "text/x-python",
   "name": "python",
   "nbconvert_exporter": "python",
   "pygments_lexer": "ipython3",
   "version": "3.7.0"
  }
 },
 "nbformat": 4,
 "nbformat_minor": 2
}
