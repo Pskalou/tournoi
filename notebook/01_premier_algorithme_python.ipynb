{
 "cells": [
  {
   "cell_type": "markdown",
   "metadata": {},
   "source": [
    "# Application tournoi\n",
    "## Premier d'algorithme pour créer le tournoi (répartition des matchs)\n",
    "\n",
    "### Modèle\n",
    "\n",
    "* soit $n$ le nombre de participants au tournoi\n",
    "* les participants sont numérotés de $0$ à $n-1$\n",
    "* l'ensemble des matchs du tournoi est modélisé par une matrice de dimension $n$\n",
    "* $matrice[i][j]$ représente le **tour** pendant lequel les participants $i$ et $j$ se rencontrent\n",
    "* les tours sont numérotés de $0$ à $n-1$\n",
    "* la valeur $-1$ représente un match impossible\n",
    "\n",
    "\n",
    "### Exemple\n",
    "\n",
    "* tableau pour 6 participants de dimension 6×6 \n",
    "\n",
    "```quote\n",
    "[[-1,  0,  1,  2,  3,  4],\n",
    " [ 0, -1,  2,  3,  4,  1],\n",
    " [ 1,  2, -1,  4,  0,  3],\n",
    " [ 2,  3,  4, -1,  1,  0],\n",
    " [ 3,  4,  0,  1, -1,  2],\n",
    " [ 4,  1,  3,  0,  2, -1]]\n",
    "```\n",
    "\n",
    "* les participants 0 et 4 se rencontrent au tour 3\n",
    "* les participants 3 et 5 se rencontrent au tour 0\n",
    "\n",
    "### Travail effectué\n",
    "\n",
    "Dans ce notebook, nous créons une fonction `tournoi (n)` qui retourne le tableau du tournoi en fonction du nombre de participant. Par exemple, l'exemple ci-dessus est généré par la fonction `tournoi(6)`.\n",
    "\n",
    "Nous avons créé une fonction `test (tableau)` qui vérifie si le tableau généré est compatible avec la problématique. À savoir qu'un même participant ne peut pas effectuer 2 matchs durant le même tour. Nous vérifions donc que sur chaque ligne et chaque colonne un même nombre n'apparait pas deux fois."
   ]
  },
  {
   "cell_type": "markdown",
   "metadata": {},
   "source": [
    "## Création de la fonction tournoi(n)"
   ]
  },
  {
   "cell_type": "markdown",
   "metadata": {},
   "source": [
    "Création du tableau de matchs lorsque le **nombre de candidat est paire** :"
   ]
  },
  {
   "cell_type": "code",
   "execution_count": 1,
   "metadata": {},
   "outputs": [],
   "source": [
    "def tournoi_paire(n):\n",
    "    tab= []\n",
    "    for i in range(n-1):\n",
    "        tab.append([])\n",
    "        for j in range (n):\n",
    "            char= (j + i-1)%(n-1)\n",
    "            if j==n-1:\n",
    "                char= (2*i-1)%(n-1)\n",
    "            if i==j:\n",
    "                char= -1\n",
    "            tab[i].append (char)\n",
    "    tab.append([])\n",
    "    for i in range(n-1):\n",
    "        tab[n-1].append(tab[i][n-1])\n",
    "    tab[n-1].append(-1)\n",
    "    return tab"
   ]
  },
  {
   "cell_type": "code",
   "execution_count": 2,
   "metadata": {},
   "outputs": [
    {
     "data": {
      "text/plain": [
       "[[-1, 0, 1, 2, 3, 4],\n",
       " [0, -1, 2, 3, 4, 1],\n",
       " [1, 2, -1, 4, 0, 3],\n",
       " [2, 3, 4, -1, 1, 0],\n",
       " [3, 4, 0, 1, -1, 2],\n",
       " [4, 1, 3, 0, 2, -1]]"
      ]
     },
     "execution_count": 2,
     "metadata": {},
     "output_type": "execute_result"
    }
   ],
   "source": [
    "tournoi_paire(6)"
   ]
  },
  {
   "cell_type": "markdown",
   "metadata": {},
   "source": [
    "création du tableau de matchs lorsque le **nombre de candidat est impaire**.\n",
    "On fait comme s'il y avait un nombre paire de candidat "
   ]
  },
  {
   "cell_type": "code",
   "execution_count": 8,
   "metadata": {},
   "outputs": [],
   "source": [
    "def tournoi_impaire(n):\n",
    "    tab= []\n",
    "    tab2= tournoi_paire(n+1)\n",
    "    for i in range (n):\n",
    "        tab.append(tab2[i][0:n])\n",
    "    return tab"
   ]
  },
  {
   "cell_type": "code",
   "execution_count": 9,
   "metadata": {},
   "outputs": [
    {
     "data": {
      "text/plain": [
       "[[-1, 0, 1, 2, 3],\n",
       " [0, -1, 2, 3, 4],\n",
       " [1, 2, -1, 4, 0],\n",
       " [2, 3, 4, -1, 1],\n",
       " [3, 4, 0, 1, -1]]"
      ]
     },
     "execution_count": 9,
     "metadata": {},
     "output_type": "execute_result"
    }
   ],
   "source": [
    "tournoi_impaire(5)"
   ]
  },
  {
   "cell_type": "markdown",
   "metadata": {},
   "source": [
    "et maintenant créons la fonction tableau indépendante de paire ou impaire"
   ]
  },
  {
   "cell_type": "code",
   "execution_count": 10,
   "metadata": {},
   "outputs": [],
   "source": [
    "def tournoi(n):\n",
    "    if n%2 ==0:\n",
    "        return tournoi_paire (n)\n",
    "    else:\n",
    "        return tournoi_impaire (n)"
   ]
  },
  {
   "cell_type": "code",
   "execution_count": 11,
   "metadata": {},
   "outputs": [
    {
     "data": {
      "text/plain": [
       "[[-1, 0, 1, 2, 3],\n",
       " [0, -1, 2, 3, 4],\n",
       " [1, 2, -1, 4, 0],\n",
       " [2, 3, 4, -1, 1],\n",
       " [3, 4, 0, 1, -1]]"
      ]
     },
     "execution_count": 11,
     "metadata": {},
     "output_type": "execute_result"
    }
   ],
   "source": [
    "tournoi(5)"
   ]
  },
  {
   "cell_type": "code",
   "execution_count": 12,
   "metadata": {},
   "outputs": [
    {
     "data": {
      "text/plain": [
       "[[-1, 0, 1, 2, 3, 4],\n",
       " [0, -1, 2, 3, 4, 1],\n",
       " [1, 2, -1, 4, 0, 3],\n",
       " [2, 3, 4, -1, 1, 0],\n",
       " [3, 4, 0, 1, -1, 2],\n",
       " [4, 1, 3, 0, 2, -1]]"
      ]
     },
     "execution_count": 12,
     "metadata": {},
     "output_type": "execute_result"
    }
   ],
   "source": [
    "tournoi(6)"
   ]
  },
  {
   "cell_type": "markdown",
   "metadata": {},
   "source": [
    "## Création de la fonction test(tableau)"
   ]
  },
  {
   "cell_type": "markdown",
   "metadata": {},
   "source": [
    "tests sur les tableaux\n",
    "* sur chaque ligne, chaque nombre est unique\n",
    "* sur chaque colonne, idem"
   ]
  },
  {
   "cell_type": "code",
   "execution_count": 17,
   "metadata": {},
   "outputs": [],
   "source": [
    "def test_ligne(tab):\n",
    "    i= 0\n",
    "    test= True\n",
    "    taille= len(tab)\n",
    "    while test and (i < taille):\n",
    "        k= 1\n",
    "        while test and k < taille :\n",
    "            test= test and tab[i][k] not in tab[i][0:k]\n",
    "            k= k+1\n",
    "        i= i+1\n",
    "    return test\n",
    "\n",
    "def transpose(tab):\n",
    "    tab2= []\n",
    "    taille= len(tab)\n",
    "    for i in range (taille):\n",
    "        tab2.append([])\n",
    "        for j in range (taille):\n",
    "            tab2[i].append(tab[j][i])\n",
    "    return tab2\n",
    "\n",
    "def test_colonne(tab):\n",
    "    return test_ligne(transpose(tab))\n",
    "\n",
    "def test (tab):\n",
    "    if test_ligne(tab):\n",
    "        return test_colonne(tab)\n",
    "    else:\n",
    "        return False"
   ]
  },
  {
   "cell_type": "code",
   "execution_count": 15,
   "metadata": {},
   "outputs": [
    {
     "data": {
      "text/plain": [
       "[[-1, 0, 1, 2, 3, 4, 5],\n",
       " [0, -1, 2, 3, 4, 5, 6],\n",
       " [1, 2, -1, 4, 5, 6, 0],\n",
       " [2, 3, 4, -1, 6, 0, 1],\n",
       " [3, 4, 5, 6, -1, 1, 2],\n",
       " [4, 5, 6, 0, 1, -1, 3],\n",
       " [5, 6, 0, 1, 2, 3, -1]]"
      ]
     },
     "execution_count": 15,
     "metadata": {},
     "output_type": "execute_result"
    }
   ],
   "source": [
    "tournoi(7)"
   ]
  },
  {
   "cell_type": "code",
   "execution_count": 18,
   "metadata": {},
   "outputs": [
    {
     "data": {
      "text/plain": [
       "True"
      ]
     },
     "execution_count": 18,
     "metadata": {},
     "output_type": "execute_result"
    }
   ],
   "source": [
    "test(tournoi(7))"
   ]
  },
  {
   "cell_type": "markdown",
   "metadata": {},
   "source": [
    "Vérifions que les 200 premiers tableaux sont corrects."
   ]
  },
  {
   "cell_type": "code",
   "execution_count": 20,
   "metadata": {},
   "outputs": [
    {
     "name": "stdout",
     "output_type": "stream",
     "text": [
      "0 True\n",
      "1 True\n",
      "2 True\n",
      "3 True\n",
      "4 True\n",
      "5 True\n",
      "6 True\n",
      "7 True\n",
      "8 True\n",
      "9 True\n",
      "10 True\n",
      "11 True\n",
      "12 True\n",
      "13 True\n",
      "14 True\n",
      "15 True\n",
      "16 True\n",
      "17 True\n",
      "18 True\n",
      "19 True\n",
      "20 True\n",
      "21 True\n",
      "22 True\n",
      "23 True\n",
      "24 True\n",
      "25 True\n",
      "26 True\n",
      "27 True\n",
      "28 True\n",
      "29 True\n",
      "30 True\n",
      "31 True\n",
      "32 True\n",
      "33 True\n",
      "34 True\n",
      "35 True\n",
      "36 True\n",
      "37 True\n",
      "38 True\n",
      "39 True\n",
      "40 True\n",
      "41 True\n",
      "42 True\n",
      "43 True\n",
      "44 True\n",
      "45 True\n",
      "46 True\n",
      "47 True\n",
      "48 True\n",
      "49 True\n",
      "50 True\n",
      "51 True\n",
      "52 True\n",
      "53 True\n",
      "54 True\n",
      "55 True\n",
      "56 True\n",
      "57 True\n",
      "58 True\n",
      "59 True\n",
      "60 True\n",
      "61 True\n",
      "62 True\n",
      "63 True\n",
      "64 True\n",
      "65 True\n",
      "66 True\n",
      "67 True\n",
      "68 True\n",
      "69 True\n",
      "70 True\n",
      "71 True\n",
      "72 True\n",
      "73 True\n",
      "74 True\n",
      "75 True\n",
      "76 True\n",
      "77 True\n",
      "78 True\n",
      "79 True\n",
      "80 True\n",
      "81 True\n",
      "82 True\n",
      "83 True\n",
      "84 True\n",
      "85 True\n",
      "86 True\n",
      "87 True\n",
      "88 True\n",
      "89 True\n",
      "90 True\n",
      "91 True\n",
      "92 True\n",
      "93 True\n",
      "94 True\n",
      "95 True\n",
      "96 True\n",
      "97 True\n",
      "98 True\n",
      "99 True\n",
      "100 True\n",
      "101 True\n",
      "102 True\n",
      "103 True\n",
      "104 True\n",
      "105 True\n",
      "106 True\n",
      "107 True\n",
      "108 True\n",
      "109 True\n",
      "110 True\n",
      "111 True\n",
      "112 True\n",
      "113 True\n",
      "114 True\n",
      "115 True\n",
      "116 True\n",
      "117 True\n",
      "118 True\n",
      "119 True\n",
      "120 True\n",
      "121 True\n",
      "122 True\n",
      "123 True\n",
      "124 True\n",
      "125 True\n",
      "126 True\n",
      "127 True\n",
      "128 True\n",
      "129 True\n",
      "130 True\n",
      "131 True\n",
      "132 True\n",
      "133 True\n",
      "134 True\n",
      "135 True\n",
      "136 True\n",
      "137 True\n",
      "138 True\n",
      "139 True\n",
      "140 True\n",
      "141 True\n",
      "142 True\n",
      "143 True\n",
      "144 True\n",
      "145 True\n",
      "146 True\n",
      "147 True\n",
      "148 True\n",
      "149 True\n",
      "150 True\n",
      "151 True\n",
      "152 True\n",
      "153 True\n",
      "154 True\n",
      "155 True\n",
      "156 True\n",
      "157 True\n",
      "158 True\n",
      "159 True\n",
      "160 True\n",
      "161 True\n",
      "162 True\n",
      "163 True\n",
      "164 True\n",
      "165 True\n",
      "166 True\n",
      "167 True\n",
      "168 True\n",
      "169 True\n",
      "170 True\n",
      "171 True\n",
      "172 True\n",
      "173 True\n",
      "174 True\n",
      "175 True\n",
      "176 True\n",
      "177 True\n",
      "178 True\n",
      "179 True\n",
      "180 True\n",
      "181 True\n",
      "182 True\n",
      "183 True\n",
      "184 True\n",
      "185 True\n",
      "186 True\n",
      "187 True\n",
      "188 True\n",
      "189 True\n",
      "190 True\n",
      "191 True\n",
      "192 True\n",
      "193 True\n",
      "194 True\n",
      "195 True\n",
      "196 True\n",
      "197 True\n",
      "198 True\n",
      "199 True\n"
     ]
    }
   ],
   "source": [
    "for i in range (200):\n",
    "    print(i, test(tournoi(i)))"
   ]
  }
 ],
 "metadata": {
  "kernelspec": {
   "display_name": "Python 3",
   "language": "python",
   "name": "python3"
  },
  "language_info": {
   "codemirror_mode": {
    "name": "ipython",
    "version": 3
   },
   "file_extension": ".py",
   "mimetype": "text/x-python",
   "name": "python",
   "nbconvert_exporter": "python",
   "pygments_lexer": "ipython3",
   "version": "3.7.0"
  }
 },
 "nbformat": 4,
 "nbformat_minor": 2
}
