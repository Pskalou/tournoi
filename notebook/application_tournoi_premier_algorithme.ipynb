{
 "cells": [
  {
   "cell_type": "markdown",
   "metadata": {},
   "source": [
    "# Application tournoi\n",
    "## Premier d'algorithme pour créer le tournoi (répartition des matchs)\n",
    "\n",
    "### Modèle\n",
    "\n",
    "* soit $n$ le nombre de participants au tournoi\n",
    "* les participants sont numérotés de $0$ à $n-1$\n",
    "* l'ensemble des matchs du tournoi est modélisé par une matrice de dimension $n$\n",
    "* $matrice[i][j]$ représente le **tour** pendant lequel les participants $i$ et $j$ se rencontrent\n",
    "* les tours sont numérotés de $0$ à $n-1$\n",
    "* la valeur $-1$ représente un match impossible\n",
    "\n",
    "\n",
    "### Exemple\n",
    "\n",
    "* tableau pour 6 participants de dimension 6×6 \n",
    "\n",
    "```quote\n",
    "[[-1,  0,  1,  2,  3,  4],\n",
    " [ 0, -1,  2,  3,  4,  1],\n",
    " [ 1,  2, -1,  4,  0,  3],\n",
    " [ 2,  3,  4, -1,  1,  0],\n",
    " [ 3,  4,  0,  1, -1,  2],\n",
    " [ 4,  1,  3,  0,  2, -1]]\n",
    "```\n",
    "\n",
    "* les participants 0 et 4 se rencontrent au tour 3\n",
    "* les participants 3 et 5 se rencontrent au tour 0\n",
    "\n",
    "### Travail effectué\n",
    "\n",
    "Dans ce notebook, nous créons une fonction `tableau (n)` qui retourne le tableau du tournoi en fonction du nombre de participant. Par exemple, l'exemple ci-dessus est généré par la fonction `tableau(6)`.\n",
    "\n",
    "Nous avons créé une fonction `test (tableau)` qui vérifie si le tableau généré est compatible avec la problématique. À savoir qu'un même participant ne peut pas effectuer 2 matchs durant le même tour. Nous vérifions donc que sur chaque ligne et chaque colonne un même nombre n'apparait pas deux fois."
   ]
  },
  {
   "cell_type": "markdown",
   "metadata": {},
   "source": [
    "## Création de la fonction tableau(n)"
   ]
  },
  {
   "cell_type": "markdown",
   "metadata": {},
   "source": [
    "Création du tableau de matchs lorsque le **nombre de candidat est paire** :"
   ]
  },
  {
   "cell_type": "code",
   "execution_count": 1,
   "metadata": {},
   "outputs": [],
   "source": [
    "def tableau_paire(n):\n",
    "    tab= []\n",
    "    for i in range(n-1):\n",
    "        tab.append([])\n",
    "        for j in range (n):\n",
    "            char= (j + i-1)%(n-1)\n",
    "            if j==n-1:\n",
    "                char= (2*i-1)%(n-1)\n",
    "            if i==j:\n",
    "                char= -1\n",
    "            tab[i].append (char)\n",
    "    tab.append([])\n",
    "    for i in range(n-1):\n",
    "        tab[n-1].append(tab[i][n-1])\n",
    "    tab[n-1].append(-1)\n",
    "    return tab"
   ]
  },
  {
   "cell_type": "code",
   "execution_count": 2,
   "metadata": {},
   "outputs": [
    {
     "data": {
      "text/plain": [
       "[[-1, 0, 1, 2, 3, 4],\n",
       " [0, -1, 2, 3, 4, 1],\n",
       " [1, 2, -1, 4, 0, 3],\n",
       " [2, 3, 4, -1, 1, 0],\n",
       " [3, 4, 0, 1, -1, 2],\n",
       " [4, 1, 3, 0, 2, -1]]"
      ]
     },
     "execution_count": 2,
     "metadata": {},
     "output_type": "execute_result"
    }
   ],
   "source": [
    "tableau_paire(6)"
   ]
  },
  {
   "cell_type": "markdown",
   "metadata": {},
   "source": [
    "création du tableau de matchs lorsque le **nombre de candidat est impaire**.\n",
    "On fait comme s'il y avait un nombre paire de candidat "
   ]
  },
  {
   "cell_type": "code",
   "execution_count": 3,
   "metadata": {},
   "outputs": [],
   "source": [
    "def tableau_impaire(n):\n",
    "    tab= []\n",
    "    tab2= tableau_paire(n+1)\n",
    "    for i in range (n):\n",
    "        tab.append(tab2[i][0:n])\n",
    "    return tab"
   ]
  },
  {
   "cell_type": "code",
   "execution_count": 4,
   "metadata": {},
   "outputs": [
    {
     "data": {
      "text/plain": [
       "[[-1, 0, 1, 2, 3],\n",
       " [0, -1, 2, 3, 4],\n",
       " [1, 2, -1, 4, 0],\n",
       " [2, 3, 4, -1, 1],\n",
       " [3, 4, 0, 1, -1]]"
      ]
     },
     "execution_count": 4,
     "metadata": {},
     "output_type": "execute_result"
    }
   ],
   "source": [
    "tableau_impaire(5)"
   ]
  },
  {
   "cell_type": "markdown",
   "metadata": {},
   "source": [
    "et maintenant créons la fonction tableau indépendante de paire ou impaire"
   ]
  },
  {
   "cell_type": "code",
   "execution_count": 5,
   "metadata": {},
   "outputs": [],
   "source": [
    "def tableau(n):\n",
    "    if n%2 ==0:\n",
    "        return tableau_paire (n)\n",
    "    else:\n",
    "        return tableau_impaire (n)"
   ]
  },
  {
   "cell_type": "code",
   "execution_count": 6,
   "metadata": {},
   "outputs": [
    {
     "data": {
      "text/plain": [
       "[[-1, 0, 1, 2, 3],\n",
       " [0, -1, 2, 3, 4],\n",
       " [1, 2, -1, 4, 0],\n",
       " [2, 3, 4, -1, 1],\n",
       " [3, 4, 0, 1, -1]]"
      ]
     },
     "execution_count": 6,
     "metadata": {},
     "output_type": "execute_result"
    }
   ],
   "source": [
    "tableau(5)"
   ]
  },
  {
   "cell_type": "code",
   "execution_count": 7,
   "metadata": {},
   "outputs": [
    {
     "data": {
      "text/plain": [
       "[[-1, 0, 1, 2, 3, 4],\n",
       " [0, -1, 2, 3, 4, 1],\n",
       " [1, 2, -1, 4, 0, 3],\n",
       " [2, 3, 4, -1, 1, 0],\n",
       " [3, 4, 0, 1, -1, 2],\n",
       " [4, 1, 3, 0, 2, -1]]"
      ]
     },
     "execution_count": 7,
     "metadata": {},
     "output_type": "execute_result"
    }
   ],
   "source": [
    "tableau(6)"
   ]
  },
  {
   "cell_type": "markdown",
   "metadata": {},
   "source": [
    "## Création de la fonction test(tableau)"
   ]
  },
  {
   "cell_type": "markdown",
   "metadata": {},
   "source": [
    "tests sur les tableaux\n",
    "* sur chaque ligne, chaque nombre est unique\n",
    "* sur chaque colonne, idem"
   ]
  },
  {
   "cell_type": "code",
   "execution_count": 8,
   "metadata": {},
   "outputs": [],
   "source": [
    "def test_ligne(tab):\n",
    "    i= 0\n",
    "    test= True\n",
    "    taille= len(tab)\n",
    "    while test and (i < taille):\n",
    "        k= 1\n",
    "        while test and k < taille :\n",
    "            test= test and tab[i][k] not in tab[i][0:k]\n",
    "            k= k+1\n",
    "        i= i+1\n",
    "    return test\n",
    "\n",
    "def transpose(tab):\n",
    "    tab2= []\n",
    "    taille= len(tab)\n",
    "    for i in range (taille):\n",
    "        tab2.append([])\n",
    "        for j in range (taille):\n",
    "            tab2[i].append(tab[j][i])\n",
    "    return tab2\n",
    "\n",
    "def test_colonne(tab):\n",
    "    return test_ligne(transpose(tab))\n",
    "\n",
    "def test (tab):\n",
    "    if test_ligne(tab):\n",
    "        return test_colonne(tab)\n",
    "    else:\n",
    "        return False"
   ]
  },
  {
   "cell_type": "code",
   "execution_count": 16,
   "metadata": {},
   "outputs": [
    {
     "data": {
      "text/plain": [
       "[[-1, 0, 1, 2, 3, 4, 5],\n",
       " [0, -1, 2, 3, 4, 5, 6],\n",
       " [1, 2, -1, 4, 5, 6, 0],\n",
       " [2, 3, 4, -1, 6, 0, 1],\n",
       " [3, 4, 5, 6, -1, 1, 2],\n",
       " [4, 5, 6, 0, 1, -1, 3],\n",
       " [5, 6, 0, 1, 2, 3, -1]]"
      ]
     },
     "execution_count": 16,
     "metadata": {},
     "output_type": "execute_result"
    }
   ],
   "source": [
    "tableau(7)"
   ]
  },
  {
   "cell_type": "markdown",
   "metadata": {},
   "source": [
    "Vérifions que les 200 premiers tableaux sont corrects."
   ]
  },
  {
   "cell_type": "code",
   "execution_count": 14,
   "metadata": {},
   "outputs": [],
   "source": [
    "for i in range (250):\n",
    "    print(i, test(tableau(i)))"
   ]
  },
  {
   "cell_type": "code",
   "execution_count": 15,
   "metadata": {},
   "outputs": [
    {
     "data": {
      "text/plain": [
       "True"
      ]
     },
     "execution_count": 15,
     "metadata": {},
     "output_type": "execute_result"
    }
   ],
   "source": []
  }
 ],
 "metadata": {
  "kernelspec": {
   "display_name": "Python 3",
   "language": "python",
   "name": "python3"
  },
  "language_info": {
   "codemirror_mode": {
    "name": "ipython",
    "version": 3
   },
   "file_extension": ".py",
   "mimetype": "text/x-python",
   "name": "python",
   "nbconvert_exporter": "python",
   "pygments_lexer": "ipython3",
   "version": "3.7.0"
  }
 },
 "nbformat": 4,
 "nbformat_minor": 2
}
